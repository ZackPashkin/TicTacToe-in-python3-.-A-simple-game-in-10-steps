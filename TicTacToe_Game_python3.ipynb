{
  "nbformat": 4,
  "nbformat_minor": 0,
  "metadata": {
    "colab": {
      "name": "TicTacToe Game python3.ipynb",
      "version": "0.3.2",
      "provenance": [],
      "include_colab_link": true
    },
    "kernelspec": {
      "name": "python3",
      "display_name": "Python 3"
    }
  },
  "cells": [
    {
      "cell_type": "markdown",
      "metadata": {
        "id": "view-in-github",
        "colab_type": "text"
      },
      "source": [
        "[View in Colaboratory](https://colab.research.google.com/github/ZackPashkin/TicTacToe-in-python3-.-A-simple-game-in-10-steps/blob/master/TicTacToe_Game_python3.ipynb)"
      ]
    },
    {
      "metadata": {
        "id": "NKBO2Az5IqTT",
        "colab_type": "text"
      },
      "cell_type": "markdown",
      "source": [
        "# Step 1\n",
        "**Write a function that can print out a board. Set up your board as a list, where each index 1-9 corresponds with a number on a number pad , so you get a 3 by 3 board representation**"
      ]
    },
    {
      "metadata": {
        "id": "a7RspdcfFSsG",
        "colab_type": "code",
        "colab": {}
      },
      "cell_type": "code",
      "source": [
        "from IPython.display import clear_output\n",
        "\n",
        "def display_board(board):\n",
        "  \n",
        "  clear_output()\n",
        "  print(board[7]+'|'+board[8]+'|'+board[9])\n",
        "  print('_____')\n",
        "  print(board[4]+'|'+board[5]+'|'+board[6])\n",
        "  print('_____')\n",
        "  print(board[1]+'|'+board[2]+'|'+board[3])\n",
        " "
      ],
      "execution_count": 0,
      "outputs": []
    },
    {
      "metadata": {
        "id": "4bUvPCSu0p1W",
        "colab_type": "text"
      },
      "cell_type": "markdown",
      "source": [
        "**Test step 1:**run your function on a test version of the board list, and make adjustments as necessary"
      ]
    },
    {
      "metadata": {
        "id": "uXFnVVfDF0aR",
        "colab_type": "code",
        "colab": {
          "base_uri": "https://localhost:8080/",
          "height": 104
        },
        "outputId": "bf622db5-d133-404f-9b8c-e89ee4d44709"
      },
      "cell_type": "code",
      "source": [
        "test_board = ['#','X','O','X','O','X','O','X','O','X']\n",
        "display_board(test_board)"
      ],
      "execution_count": 0,
      "outputs": [
        {
          "output_type": "stream",
          "text": [
            "X|O|X\n",
            "_____\n",
            "O|X|O\n",
            "_____\n",
            "X|O|X\n"
          ],
          "name": "stdout"
        }
      ]
    },
    {
      "metadata": {
        "id": "L_kpiQiuIFbP",
        "colab_type": "text"
      },
      "cell_type": "markdown",
      "source": [
        "# Step 2\n",
        "**Write a fuction that can take in a player input and assign their marker as 'X' or 'O'. Think about using *while* loops to continually ask until you get a correct answer **"
      ]
    },
    {
      "metadata": {
        "id": "cZ5yvJwuIErn",
        "colab_type": "code",
        "colab": {}
      },
      "cell_type": "code",
      "source": [
        "def player_input():\n",
        "  \n",
        "  \n",
        "  #  output = (Player 1 marker, Player 2 marker)\n",
        "  \n",
        "  \n",
        "  marker = ''\n",
        "  \n",
        "  # keep asking player 1 to choose X or O\n",
        "  \n",
        "  while marker != 'X' and marker != 'O':\n",
        "    \n",
        "  # other way to declare the same\n",
        "  # while not (marker =='X' or marker == '0'): \n",
        "  \n",
        "    marker = input('Player 1: choose X or O: ').upper()\n",
        "    \n",
        "  if marker == 'X':\n",
        "    \n",
        "    return ('X','0')\n",
        "  \n",
        "  else:\n",
        "    return ('0','X')"
      ],
      "execution_count": 0,
      "outputs": []
    },
    {
      "metadata": {
        "id": "eLb9lR6hzf24",
        "colab_type": "code",
        "colab": {
          "base_uri": "https://localhost:8080/",
          "height": 87
        },
        "outputId": "7f2bfabd-6e88-4c92-c220-603a0941de9d"
      },
      "cell_type": "code",
      "source": [
        "player1_marker, player2_marker = player_input()"
      ],
      "execution_count": 0,
      "outputs": [
        {
          "output_type": "stream",
          "text": [
            "Player 1: choose X or O: 0\n",
            "Player 1: choose X or O: 0\n",
            "Player 1: choose X or O: 1\n",
            "Player 1: choose X or O: x\n"
          ],
          "name": "stdout"
        }
      ]
    },
    {
      "metadata": {
        "id": "b5Vc13arz6_M",
        "colab_type": "code",
        "colab": {
          "base_uri": "https://localhost:8080/",
          "height": 35
        },
        "outputId": "05fd2c1f-80de-4e5d-f55a-1348ab2bc0bb"
      },
      "cell_type": "code",
      "source": [
        "#Check\n",
        "player2_marker"
      ],
      "execution_count": 0,
      "outputs": [
        {
          "output_type": "execute_result",
          "data": {
            "text/plain": [
              "'0'"
            ]
          },
          "metadata": {
            "tags": []
          },
          "execution_count": 5
        }
      ]
    },
    {
      "metadata": {
        "id": "GfHDHk9c2-uG",
        "colab_type": "text"
      },
      "cell_type": "markdown",
      "source": [
        "# Step 3\n",
        "** Write a function that takes in the board list object, a marker ('X' or '0'), and a desired position (number 1-9) and assigns it to the board.**"
      ]
    },
    {
      "metadata": {
        "id": "fFYWhGHS29-d",
        "colab_type": "code",
        "colab": {}
      },
      "cell_type": "code",
      "source": [
        "def place_marker(board, marker, position):\n",
        "  \n",
        "  board[position] = marker\n",
        "  \n"
      ],
      "execution_count": 0,
      "outputs": []
    },
    {
      "metadata": {
        "id": "h3yuBgEI4dNV",
        "colab_type": "text"
      },
      "cell_type": "markdown",
      "source": [
        "**Test step 3:** run the place marker function using test parameters and display the modified board"
      ]
    },
    {
      "metadata": {
        "id": "EKr1xRcQ4qu6",
        "colab_type": "code",
        "colab": {
          "base_uri": "https://localhost:8080/",
          "height": 104
        },
        "outputId": "cbbff1f5-ba32-4305-cf85-2b29b1f403cc"
      },
      "cell_type": "code",
      "source": [
        "place_marker(test_board, '$',8)\n",
        "display_board(test_board)"
      ],
      "execution_count": 0,
      "outputs": [
        {
          "output_type": "stream",
          "text": [
            "X|$|X\n",
            "_____\n",
            "O|X|O\n",
            "_____\n",
            "X|O|X\n"
          ],
          "name": "stdout"
        }
      ]
    },
    {
      "metadata": {
        "id": "hokBf0dZ8hkb",
        "colab_type": "text"
      },
      "cell_type": "markdown",
      "source": [
        ""
      ]
    },
    {
      "metadata": {
        "id": "1nCrJYd65Y0k",
        "colab_type": "text"
      },
      "cell_type": "markdown",
      "source": [
        "# Step 4\n",
        "**Writer a function that takes in a board and a mark (X or 0) and then checks to see if that mark has won.**"
      ]
    },
    {
      "metadata": {
        "id": "HW-ykqYt5X-i",
        "colab_type": "code",
        "colab": {}
      },
      "cell_type": "code",
      "source": [
        "def win_check(board, mark):\n",
        "  \n",
        "  \n",
        "  \n",
        "   \"\"\"WIN TIC TAC TOE?   \n",
        "   All rows, and check to see if they all share the same marker?\n",
        "   All columns, check to see if marker matches\n",
        "   2 diagonals, check to see match\"\"\"\n",
        "   \n",
        "   return ((board[7] == mark and board[8] == mark and board[9] == mark) or # across the top\n",
        "    (board[4] == mark and board[5] == mark and board[6] == mark) or # middle\n",
        "    (board[1] == mark and board[2] == mark and board[3] == mark) or # bottom\n",
        "            \n",
        "    (board[7] == mark and board[4] == mark and board[1] == mark) or # down the middle\n",
        "    (board[8] == mark and board[5] == mark and board[2] == mark) or # down the middle\n",
        "    (board[9] == mark and board[6] == mark and board[3] == mark) or # down the right site\n",
        "    \n",
        "    (board[7] == mark and board[5] == mark and board[3] == mark) or # diagonal\n",
        "    (board[9] == mark and board[5] == mark and board[1] == mark))    # diagonal"
      ],
      "execution_count": 0,
      "outputs": []
    },
    {
      "metadata": {
        "id": "t3R2cN-z-RMK",
        "colab_type": "text"
      },
      "cell_type": "markdown",
      "source": [
        "**Test step 4:** run the win_check function against our test_board - it should return True"
      ]
    },
    {
      "metadata": {
        "id": "rvGDskFE6IGz",
        "colab_type": "code",
        "colab": {
          "base_uri": "https://localhost:8080/",
          "height": 121
        },
        "outputId": "2d813b48-8020-48f0-bf4b-a106aadcad04"
      },
      "cell_type": "code",
      "source": [
        "display_board(test_board)\n",
        "win_check(test_board,'X')"
      ],
      "execution_count": 0,
      "outputs": [
        {
          "output_type": "stream",
          "text": [
            "X|$|X\n",
            "_____\n",
            "O|X|O\n",
            "_____\n",
            "X|O|X\n"
          ],
          "name": "stdout"
        },
        {
          "output_type": "execute_result",
          "data": {
            "text/plain": [
              "True"
            ]
          },
          "metadata": {
            "tags": []
          },
          "execution_count": 31
        }
      ]
    },
    {
      "metadata": {
        "id": "CIEJ-ZHk-5r9",
        "colab_type": "text"
      },
      "cell_type": "markdown",
      "source": [
        "# Step 5:\n",
        "**Write a function that uses the random module to randomly decide which player goes first. You may want to lookup* random.randint()*. Return a string of which palayer went first.**"
      ]
    },
    {
      "metadata": {
        "id": "c51-X8JZ-4m2",
        "colab_type": "code",
        "colab": {}
      },
      "cell_type": "code",
      "source": [
        "import random\n",
        "\n",
        "def choose_first():\n",
        "  flip = random.randint(0,1)\n",
        "  \n",
        "  if flip == 0:\n",
        "    return 'Player 1'\n",
        "  else:\n",
        "    return 'Player 2'\n",
        "  "
      ],
      "execution_count": 0,
      "outputs": []
    },
    {
      "metadata": {
        "id": "ZVL_6vj3ACPa",
        "colab_type": "text"
      },
      "cell_type": "markdown",
      "source": [
        "# Step 6:\n",
        "**Write a function that returns a boolean indicating whether a space on the board is freely available.**"
      ]
    },
    {
      "metadata": {
        "id": "cbciW7KWAQeQ",
        "colab_type": "code",
        "colab": {}
      },
      "cell_type": "code",
      "source": [
        "def space_check(board, position):\n",
        "  \n",
        "  return board[position] == ' '"
      ],
      "execution_count": 0,
      "outputs": []
    },
    {
      "metadata": {
        "id": "EUUguQLNbv_0",
        "colab_type": "text"
      },
      "cell_type": "markdown",
      "source": [
        "# Step 7\n",
        "**Write a function that checks if the board if full and returns a boolean value. True if full, False otherwise.**"
      ]
    },
    {
      "metadata": {
        "id": "BXnA5E7RbrcF",
        "colab_type": "code",
        "colab": {}
      },
      "cell_type": "code",
      "source": [
        "def full_board_check(board):\n",
        "  \n",
        "  for i in range(1,10):\n",
        "    if space_check(board,i):\n",
        "      return False\n",
        "    \n",
        "  # board is full if we return True\n",
        "  return True\n",
        "  "
      ],
      "execution_count": 0,
      "outputs": []
    },
    {
      "metadata": {
        "id": "k_3MzOKwhcFl",
        "colab_type": "text"
      },
      "cell_type": "markdown",
      "source": [
        "# Step 8\n",
        "**Write a function that asks for a player's next position (as a number 1-9) and then uses the function from step 6 to to check if it's a free position. If it is , then return the position for later use.**"
      ]
    },
    {
      "metadata": {
        "id": "-dwhTKD7h3LP",
        "colab_type": "code",
        "colab": {}
      },
      "cell_type": "code",
      "source": [
        "def player_choice(board):\n",
        "  \n",
        "  position = 0\n",
        "  \n",
        "  while position not in[1,2,3,4,5,6,7,8,9] or not space_check(board, position):\n",
        "    position = int(input('Choose a position: (1-9)'))\n",
        "  \n",
        "  return position\n",
        "    "
      ],
      "execution_count": 0,
      "outputs": []
    },
    {
      "metadata": {
        "id": "M-7K5Dc2oS2r",
        "colab_type": "text"
      },
      "cell_type": "markdown",
      "source": [
        "# Step 9\n",
        "**Write a function that asks the player if they want to play again and returns a boolean True if they do want to play again.**\n"
      ]
    },
    {
      "metadata": {
        "id": "CLMMlQUXoRq7",
        "colab_type": "code",
        "colab": {}
      },
      "cell_type": "code",
      "source": [
        "def replay():\n",
        "  choice = input(\"Play again? Enter Yes or No\")\n",
        "  \n",
        "  return choice == 'Yes'\n"
      ],
      "execution_count": 0,
      "outputs": []
    },
    {
      "metadata": {
        "id": "oHyDx4JHpFmj",
        "colab_type": "text"
      },
      "cell_type": "markdown",
      "source": [
        "# Step 10\n",
        "**Here comes the hard part! Use while loops and the functions you've made to run the game.**\n"
      ]
    },
    {
      "metadata": {
        "id": "FvqDmMGGpE79",
        "colab_type": "code",
        "colab": {
          "base_uri": "https://localhost:8080/",
          "height": 139
        },
        "outputId": "c83dc8e1-8285-4ad6-eff1-40802308daba"
      },
      "cell_type": "code",
      "source": [
        "# while loop to keep running the game\n",
        "print('Welcome to Tic Tac Toe')\n",
        "\n",
        "while True:\n",
        "  \n",
        "  # play the game\n",
        "  \n",
        "  ## let's set everything up (board, whos first, choose markers X,0)\n",
        "  the_board = [' ']*10\n",
        "  player1_marker, player2_marker = player_input()\n",
        "  \n",
        "  turn = choose_first()\n",
        "  print(turn + ' will go first')\n",
        "  \n",
        "  play_game = input('Ready to play? y or n? ' )\n",
        "  \n",
        "  if play_game == 'y':\n",
        "    game_on = True\n",
        "  else:\n",
        "    game_on = False\n",
        "  \n",
        "  ## game play\n",
        "  \n",
        "  while game_on:\n",
        "    if turn == 'Player 1':\n",
        "      # Show the board\n",
        "      display_board(the_board)\n",
        "      # Choose a position\n",
        "      position = player_choice(the_board)\n",
        "      \n",
        "      # Place the marker on the position\n",
        "      place_marker(the_board, player1_marker, position)\n",
        "      \n",
        "      # Check if they won\n",
        "      if win_check(the_board, player1_marker):\n",
        "        display_board(the_board)\n",
        "        print('Player 1 has won!!')\n",
        "        print('Would you like to continue?')\n",
        "        game_on = False\n",
        "      else:\n",
        "        if full_board_check(the_board):\n",
        "          display_board(the_board)\n",
        "          print(\"TIE GAME!\")\n",
        "          print('Are you ready for next round!')\n",
        "          game_on = False\n",
        "          break\n",
        "        else:\n",
        "          turn = 'Player 2'\n",
        "          \n",
        "    else: # the same logic but for next player\n",
        "     # Show the board\n",
        "      display_board(the_board)\n",
        "      # Choose a position\n",
        "      position = player_choice(the_board)\n",
        "      \n",
        "      # Place the marker on the position\n",
        "      place_marker(the_board, player2_marker, position)\n",
        "      \n",
        "      # Check if they won\n",
        "      if win_check(the_board, player2_marker):\n",
        "        display_board(the_board)\n",
        "        print('Player 2 has won!!')\n",
        "        print('Would you like to continue?')\n",
        "        game_on = False\n",
        "      else:\n",
        "        if full_board_check(the_board):\n",
        "          display_board(the_board)\n",
        "          print(\"TIE GAME!\")\n",
        "          print('Are you ready for the next round?')\n",
        "          game_on = False\n",
        "          break\n",
        "        else:\n",
        "          turn = 'Player 1'\n",
        "           \n",
        "# break out of the while loop on replay()"
      ],
      "execution_count": 0,
      "outputs": [
        {
          "output_type": "stream",
          "text": [
            "X|0| \n",
            "_____\n",
            "X|X|0\n",
            "_____\n",
            "X|0| \n",
            "Player 1 has won!!\n",
            "Would you like to continue?\n"
          ],
          "name": "stdout"
        }
      ]
    }
  ]
}